{
 "cells": [
  {
   "cell_type": "code",
   "execution_count": 6,
   "id": "7fbe3c78",
   "metadata": {},
   "outputs": [],
   "source": [
    "import numpy as np\n",
    "import pandas as pd\n",
    "import matplotlib.pyplot as plt\n",
    "import seaborn as sns\n",
    "from sklearn.model_selection import train_test_split\n",
    "from sklearn.ensemble import RandomForestRegressor\n",
    "from sklearn import metrics"
   ]
  },
  {
   "cell_type": "code",
   "execution_count": 4,
   "id": "4e541016",
   "metadata": {},
   "outputs": [],
   "source": [
    "##data collection and processing\n"
   ]
  },
  {
   "cell_type": "code",
   "execution_count": 9,
   "id": "2d9a6d6b",
   "metadata": {},
   "outputs": [],
   "source": [
    "##Loading the csv data into pandas DF\n",
    "gold_data = pd.read_csv('gld_price_data.csv')"
   ]
  },
  {
   "cell_type": "code",
   "execution_count": 11,
   "id": "3a0852a9",
   "metadata": {},
   "outputs": [
    {
     "data": {
      "text/html": [
       "<div>\n",
       "<style scoped>\n",
       "    .dataframe tbody tr th:only-of-type {\n",
       "        vertical-align: middle;\n",
       "    }\n",
       "\n",
       "    .dataframe tbody tr th {\n",
       "        vertical-align: top;\n",
       "    }\n",
       "\n",
       "    .dataframe thead th {\n",
       "        text-align: right;\n",
       "    }\n",
       "</style>\n",
       "<table border=\"1\" class=\"dataframe\">\n",
       "  <thead>\n",
       "    <tr style=\"text-align: right;\">\n",
       "      <th></th>\n",
       "      <th>Date</th>\n",
       "      <th>SPX</th>\n",
       "      <th>GLD</th>\n",
       "      <th>USO</th>\n",
       "      <th>SLV</th>\n",
       "      <th>EUR/USD</th>\n",
       "    </tr>\n",
       "  </thead>\n",
       "  <tbody>\n",
       "    <tr>\n",
       "      <th>0</th>\n",
       "      <td>1/2/2008</td>\n",
       "      <td>1447.160034</td>\n",
       "      <td>84.860001</td>\n",
       "      <td>78.470001</td>\n",
       "      <td>15.180</td>\n",
       "      <td>1.471692</td>\n",
       "    </tr>\n",
       "    <tr>\n",
       "      <th>1</th>\n",
       "      <td>1/3/2008</td>\n",
       "      <td>1447.160034</td>\n",
       "      <td>85.570000</td>\n",
       "      <td>78.370003</td>\n",
       "      <td>15.285</td>\n",
       "      <td>1.474491</td>\n",
       "    </tr>\n",
       "    <tr>\n",
       "      <th>2</th>\n",
       "      <td>1/4/2008</td>\n",
       "      <td>1411.630005</td>\n",
       "      <td>85.129997</td>\n",
       "      <td>77.309998</td>\n",
       "      <td>15.167</td>\n",
       "      <td>1.475492</td>\n",
       "    </tr>\n",
       "    <tr>\n",
       "      <th>3</th>\n",
       "      <td>1/7/2008</td>\n",
       "      <td>1416.180054</td>\n",
       "      <td>84.769997</td>\n",
       "      <td>75.500000</td>\n",
       "      <td>15.053</td>\n",
       "      <td>1.468299</td>\n",
       "    </tr>\n",
       "    <tr>\n",
       "      <th>4</th>\n",
       "      <td>1/8/2008</td>\n",
       "      <td>1390.189941</td>\n",
       "      <td>86.779999</td>\n",
       "      <td>76.059998</td>\n",
       "      <td>15.590</td>\n",
       "      <td>1.557099</td>\n",
       "    </tr>\n",
       "  </tbody>\n",
       "</table>\n",
       "</div>"
      ],
      "text/plain": [
       "       Date          SPX        GLD        USO     SLV   EUR/USD\n",
       "0  1/2/2008  1447.160034  84.860001  78.470001  15.180  1.471692\n",
       "1  1/3/2008  1447.160034  85.570000  78.370003  15.285  1.474491\n",
       "2  1/4/2008  1411.630005  85.129997  77.309998  15.167  1.475492\n",
       "3  1/7/2008  1416.180054  84.769997  75.500000  15.053  1.468299\n",
       "4  1/8/2008  1390.189941  86.779999  76.059998  15.590  1.557099"
      ]
     },
     "execution_count": 11,
     "metadata": {},
     "output_type": "execute_result"
    }
   ],
   "source": [
    "##print first 5 rows of the dataframe\n",
    "gold_data.head()"
   ]
  },
  {
   "cell_type": "code",
   "execution_count": 13,
   "id": "df35fca6",
   "metadata": {},
   "outputs": [
    {
     "data": {
      "text/html": [
       "<div>\n",
       "<style scoped>\n",
       "    .dataframe tbody tr th:only-of-type {\n",
       "        vertical-align: middle;\n",
       "    }\n",
       "\n",
       "    .dataframe tbody tr th {\n",
       "        vertical-align: top;\n",
       "    }\n",
       "\n",
       "    .dataframe thead th {\n",
       "        text-align: right;\n",
       "    }\n",
       "</style>\n",
       "<table border=\"1\" class=\"dataframe\">\n",
       "  <thead>\n",
       "    <tr style=\"text-align: right;\">\n",
       "      <th></th>\n",
       "      <th>Date</th>\n",
       "      <th>SPX</th>\n",
       "      <th>GLD</th>\n",
       "      <th>USO</th>\n",
       "      <th>SLV</th>\n",
       "      <th>EUR/USD</th>\n",
       "    </tr>\n",
       "  </thead>\n",
       "  <tbody>\n",
       "    <tr>\n",
       "      <th>2285</th>\n",
       "      <td>5/8/2018</td>\n",
       "      <td>2671.919922</td>\n",
       "      <td>124.589996</td>\n",
       "      <td>14.0600</td>\n",
       "      <td>15.5100</td>\n",
       "      <td>1.186789</td>\n",
       "    </tr>\n",
       "    <tr>\n",
       "      <th>2286</th>\n",
       "      <td>5/9/2018</td>\n",
       "      <td>2697.790039</td>\n",
       "      <td>124.330002</td>\n",
       "      <td>14.3700</td>\n",
       "      <td>15.5300</td>\n",
       "      <td>1.184722</td>\n",
       "    </tr>\n",
       "    <tr>\n",
       "      <th>2287</th>\n",
       "      <td>5/10/2018</td>\n",
       "      <td>2723.070068</td>\n",
       "      <td>125.180000</td>\n",
       "      <td>14.4100</td>\n",
       "      <td>15.7400</td>\n",
       "      <td>1.191753</td>\n",
       "    </tr>\n",
       "    <tr>\n",
       "      <th>2288</th>\n",
       "      <td>5/14/2018</td>\n",
       "      <td>2730.129883</td>\n",
       "      <td>124.489998</td>\n",
       "      <td>14.3800</td>\n",
       "      <td>15.5600</td>\n",
       "      <td>1.193118</td>\n",
       "    </tr>\n",
       "    <tr>\n",
       "      <th>2289</th>\n",
       "      <td>5/16/2018</td>\n",
       "      <td>2725.780029</td>\n",
       "      <td>122.543800</td>\n",
       "      <td>14.4058</td>\n",
       "      <td>15.4542</td>\n",
       "      <td>1.182033</td>\n",
       "    </tr>\n",
       "  </tbody>\n",
       "</table>\n",
       "</div>"
      ],
      "text/plain": [
       "           Date          SPX         GLD      USO      SLV   EUR/USD\n",
       "2285   5/8/2018  2671.919922  124.589996  14.0600  15.5100  1.186789\n",
       "2286   5/9/2018  2697.790039  124.330002  14.3700  15.5300  1.184722\n",
       "2287  5/10/2018  2723.070068  125.180000  14.4100  15.7400  1.191753\n",
       "2288  5/14/2018  2730.129883  124.489998  14.3800  15.5600  1.193118\n",
       "2289  5/16/2018  2725.780029  122.543800  14.4058  15.4542  1.182033"
      ]
     },
     "execution_count": 13,
     "metadata": {},
     "output_type": "execute_result"
    }
   ],
   "source": [
    "##last five rows\n",
    "gold_data.tail()"
   ]
  },
  {
   "cell_type": "code",
   "execution_count": 16,
   "id": "b06e1a4b",
   "metadata": {},
   "outputs": [
    {
     "data": {
      "text/plain": [
       "(2290, 6)"
      ]
     },
     "execution_count": 16,
     "metadata": {},
     "output_type": "execute_result"
    }
   ],
   "source": [
    "# number of rows and columns\n",
    "gold_data.shape"
   ]
  },
  {
   "cell_type": "code",
   "execution_count": 18,
   "id": "021bb175",
   "metadata": {},
   "outputs": [
    {
     "name": "stdout",
     "output_type": "stream",
     "text": [
      "<class 'pandas.core.frame.DataFrame'>\n",
      "RangeIndex: 2290 entries, 0 to 2289\n",
      "Data columns (total 6 columns):\n",
      " #   Column   Non-Null Count  Dtype  \n",
      "---  ------   --------------  -----  \n",
      " 0   Date     2290 non-null   object \n",
      " 1   SPX      2290 non-null   float64\n",
      " 2   GLD      2290 non-null   float64\n",
      " 3   USO      2290 non-null   float64\n",
      " 4   SLV      2290 non-null   float64\n",
      " 5   EUR/USD  2290 non-null   float64\n",
      "dtypes: float64(5), object(1)\n",
      "memory usage: 107.5+ KB\n"
     ]
    }
   ],
   "source": [
    "# gettig some basic information about the data\n",
    "gold_data.info()"
   ]
  },
  {
   "cell_type": "code",
   "execution_count": 20,
   "id": "749a7b63",
   "metadata": {},
   "outputs": [
    {
     "data": {
      "text/plain": [
       "Date       0\n",
       "SPX        0\n",
       "GLD        0\n",
       "USO        0\n",
       "SLV        0\n",
       "EUR/USD    0\n",
       "dtype: int64"
      ]
     },
     "execution_count": 20,
     "metadata": {},
     "output_type": "execute_result"
    }
   ],
   "source": [
    "# number of missing values\n",
    "gold_data.isnull().sum()"
   ]
  },
  {
   "cell_type": "code",
   "execution_count": 22,
   "id": "4315a4e4",
   "metadata": {},
   "outputs": [
    {
     "data": {
      "text/html": [
       "<div>\n",
       "<style scoped>\n",
       "    .dataframe tbody tr th:only-of-type {\n",
       "        vertical-align: middle;\n",
       "    }\n",
       "\n",
       "    .dataframe tbody tr th {\n",
       "        vertical-align: top;\n",
       "    }\n",
       "\n",
       "    .dataframe thead th {\n",
       "        text-align: right;\n",
       "    }\n",
       "</style>\n",
       "<table border=\"1\" class=\"dataframe\">\n",
       "  <thead>\n",
       "    <tr style=\"text-align: right;\">\n",
       "      <th></th>\n",
       "      <th>SPX</th>\n",
       "      <th>GLD</th>\n",
       "      <th>USO</th>\n",
       "      <th>SLV</th>\n",
       "      <th>EUR/USD</th>\n",
       "    </tr>\n",
       "  </thead>\n",
       "  <tbody>\n",
       "    <tr>\n",
       "      <th>count</th>\n",
       "      <td>2290.000000</td>\n",
       "      <td>2290.000000</td>\n",
       "      <td>2290.000000</td>\n",
       "      <td>2290.000000</td>\n",
       "      <td>2290.000000</td>\n",
       "    </tr>\n",
       "    <tr>\n",
       "      <th>mean</th>\n",
       "      <td>1654.315776</td>\n",
       "      <td>122.732875</td>\n",
       "      <td>31.842221</td>\n",
       "      <td>20.084997</td>\n",
       "      <td>1.283653</td>\n",
       "    </tr>\n",
       "    <tr>\n",
       "      <th>std</th>\n",
       "      <td>519.111540</td>\n",
       "      <td>23.283346</td>\n",
       "      <td>19.523517</td>\n",
       "      <td>7.092566</td>\n",
       "      <td>0.131547</td>\n",
       "    </tr>\n",
       "    <tr>\n",
       "      <th>min</th>\n",
       "      <td>676.530029</td>\n",
       "      <td>70.000000</td>\n",
       "      <td>7.960000</td>\n",
       "      <td>8.850000</td>\n",
       "      <td>1.039047</td>\n",
       "    </tr>\n",
       "    <tr>\n",
       "      <th>25%</th>\n",
       "      <td>1239.874969</td>\n",
       "      <td>109.725000</td>\n",
       "      <td>14.380000</td>\n",
       "      <td>15.570000</td>\n",
       "      <td>1.171313</td>\n",
       "    </tr>\n",
       "    <tr>\n",
       "      <th>50%</th>\n",
       "      <td>1551.434998</td>\n",
       "      <td>120.580002</td>\n",
       "      <td>33.869999</td>\n",
       "      <td>17.268500</td>\n",
       "      <td>1.303297</td>\n",
       "    </tr>\n",
       "    <tr>\n",
       "      <th>75%</th>\n",
       "      <td>2073.010070</td>\n",
       "      <td>132.840004</td>\n",
       "      <td>37.827501</td>\n",
       "      <td>22.882500</td>\n",
       "      <td>1.369971</td>\n",
       "    </tr>\n",
       "    <tr>\n",
       "      <th>max</th>\n",
       "      <td>2872.870117</td>\n",
       "      <td>184.589996</td>\n",
       "      <td>117.480003</td>\n",
       "      <td>47.259998</td>\n",
       "      <td>1.598798</td>\n",
       "    </tr>\n",
       "  </tbody>\n",
       "</table>\n",
       "</div>"
      ],
      "text/plain": [
       "               SPX          GLD          USO          SLV      EUR/USD\n",
       "count  2290.000000  2290.000000  2290.000000  2290.000000  2290.000000\n",
       "mean   1654.315776   122.732875    31.842221    20.084997     1.283653\n",
       "std     519.111540    23.283346    19.523517     7.092566     0.131547\n",
       "min     676.530029    70.000000     7.960000     8.850000     1.039047\n",
       "25%    1239.874969   109.725000    14.380000    15.570000     1.171313\n",
       "50%    1551.434998   120.580002    33.869999    17.268500     1.303297\n",
       "75%    2073.010070   132.840004    37.827501    22.882500     1.369971\n",
       "max    2872.870117   184.589996   117.480003    47.259998     1.598798"
      ]
     },
     "execution_count": 22,
     "metadata": {},
     "output_type": "execute_result"
    }
   ],
   "source": [
    "# getting statistical measures of the data\n",
    "gold_data.describe()"
   ]
  },
  {
   "cell_type": "code",
   "execution_count": 23,
   "id": "aa6f51b4",
   "metadata": {},
   "outputs": [],
   "source": [
    "#find the correlayion btw various datapoints\n",
    "#1. positive correlation: directly proportional\n",
    "#2.negative correlation: indirectly proportional"
   ]
  },
  {
   "cell_type": "code",
   "execution_count": 26,
   "id": "5f2d76c3",
   "metadata": {},
   "outputs": [],
   "source": [
    "correlation = gold_data.corr()"
   ]
  },
  {
   "cell_type": "code",
   "execution_count": 35,
   "id": "57ec1e5e",
   "metadata": {},
   "outputs": [
    {
     "data": {
      "text/plain": [
       "<AxesSubplot:>"
      ]
     },
     "execution_count": 35,
     "metadata": {},
     "output_type": "execute_result"
    },
    {
     "data": {
      "image/png": "[encoded data removed]",
      "text/plain": [
       "<Figure size 576x576 with 2 Axes>"
      ]
     },
     "metadata": {
      "needs_background": "light"
     },
     "output_type": "display_data"
    }
   ],
   "source": [
    "#constructing heat map to understand correlation\n",
    "plt.figure(figsize = (8,8))\n",
    "sns.heatmap(correlation,cbar=True,square=True,fmt='.1f',annot=True,annot_kws={'size':10},  cmap='Blues')"
   ]
  },
  {
   "cell_type": "code",
   "execution_count": 33,
   "id": "4c135330",
   "metadata": {},
   "outputs": [],
   "source": [
    "# therefore if the Gold value increases, then the Silver value also increase as the value 0.9 is positive"
   ]
  },
  {
   "cell_type": "code",
   "execution_count": 37,
   "id": "864919dd",
   "metadata": {},
   "outputs": [
    {
     "name": "stdout",
     "output_type": "stream",
     "text": [
      "SPX        0.049345\n",
      "GLD        1.000000\n",
      "USO       -0.186360\n",
      "SLV        0.866632\n",
      "EUR/USD   -0.024375\n",
      "Name: GLD, dtype: float64\n"
     ]
    }
   ],
   "source": [
    "#correlation values of GLD\n",
    "print(correlation['GLD'])"
   ]
  },
  {
   "cell_type": "code",
   "execution_count": 39,
   "id": "521e796b",
   "metadata": {},
   "outputs": [
    {
     "name": "stderr",
     "output_type": "stream",
     "text": [
      "C:\\Users\\HP\\anaconda3\\lib\\site-packages\\seaborn\\distributions.py:2619: FutureWarning: `distplot` is a deprecated function and will be removed in a future version. Please adapt your code to use either `displot` (a figure-level function with similar flexibility) or `histplot` (an axes-level function for histograms).\n",
      "  warnings.warn(msg, FutureWarning)\n"
     ]
    },
    {
     "data": {
      "text/plain": [
       "<AxesSubplot:xlabel='GLD', ylabel='Density'>"
      ]
     },
     "execution_count": 39,
     "metadata": {},
     "output_type": "execute_result"
    },
    {
     "data": {
      "image/png": "[encoded data removed]",
      "text/plain": [
       "<Figure size 432x288 with 1 Axes>"
      ]
     },
     "metadata": {
      "needs_background": "light"
     },
     "output_type": "display_data"
    }
   ],
   "source": [
    "#checking the distribution of the gold price\n",
    "sns.distplot(gold_data['GLD'],color='green')      #distribution plot"
   ]
  },
  {
   "cell_type": "code",
   "execution_count": 40,
   "id": "ee9acf9b",
   "metadata": {},
   "outputs": [],
   "source": [
    "#according to this, most values lie in the range of 120  n on 70 n 160 but the maximum is in 120.\n",
    "# i.e, most values in the span of 2008 n 2018 lies in the range of 120.\n",
    "# density is the number of values, so clearly the density is higher in price 120, i,e most values are 120.\n"
   ]
  },
  {
   "cell_type": "code",
   "execution_count": 41,
   "id": "a4c45953",
   "metadata": {},
   "outputs": [],
   "source": [
    "#splitting the features and target\n",
    "#the target is gold price\n",
    "# features r spx and uso\n",
    "\n",
    "X = gold_data.drop(['Date','GLD'],axis = 1)   #features list made by dropping the not needed columns written here\n",
    "#axis = 1 mean dropping a column , axis = 0 means dropping a row\n",
    "Y = gold_data['GLD']     #Target with only Gold price in it\n"
   ]
  },
  {
   "cell_type": "code",
   "execution_count": 42,
   "id": "b42c6559",
   "metadata": {},
   "outputs": [
    {
     "name": "stdout",
     "output_type": "stream",
     "text": [
      "              SPX        USO      SLV   EUR/USD\n",
      "0     1447.160034  78.470001  15.1800  1.471692\n",
      "1     1447.160034  78.370003  15.2850  1.474491\n",
      "2     1411.630005  77.309998  15.1670  1.475492\n",
      "3     1416.180054  75.500000  15.0530  1.468299\n",
      "4     1390.189941  76.059998  15.5900  1.557099\n",
      "...           ...        ...      ...       ...\n",
      "2285  2671.919922  14.060000  15.5100  1.186789\n",
      "2286  2697.790039  14.370000  15.5300  1.184722\n",
      "2287  2723.070068  14.410000  15.7400  1.191753\n",
      "2288  2730.129883  14.380000  15.5600  1.193118\n",
      "2289  2725.780029  14.405800  15.4542  1.182033\n",
      "\n",
      "[2290 rows x 4 columns]\n"
     ]
    }
   ],
   "source": [
    "print(X)"
   ]
  },
  {
   "cell_type": "code",
   "execution_count": 43,
   "id": "dac1ef62",
   "metadata": {},
   "outputs": [
    {
     "name": "stdout",
     "output_type": "stream",
     "text": [
      "0        84.860001\n",
      "1        85.570000\n",
      "2        85.129997\n",
      "3        84.769997\n",
      "4        86.779999\n",
      "           ...    \n",
      "2285    124.589996\n",
      "2286    124.330002\n",
      "2287    125.180000\n",
      "2288    124.489998\n",
      "2289    122.543800\n",
      "Name: GLD, Length: 2290, dtype: float64\n"
     ]
    }
   ],
   "source": [
    "print(Y)"
   ]
  },
  {
   "cell_type": "code",
   "execution_count": 44,
   "id": "afb354b9",
   "metadata": {},
   "outputs": [],
   "source": [
    "#Splitting into Training Data and Test Data\n"
   ]
  },
  {
   "cell_type": "code",
   "execution_count": 45,
   "id": "175ac819",
   "metadata": {},
   "outputs": [],
   "source": [
    "X_train, X_test, Y_train, Y_test = train_test_split(X,Y, test_size = 0.2, random_state = 2)"
   ]
  },
  {
   "cell_type": "code",
   "execution_count": 46,
   "id": "db0d4eab",
   "metadata": {},
   "outputs": [],
   "source": [
    "#Model Training\n",
    "#Random Forest Regressor : ensemble learning, i.e made of more than 1 model\n",
    "#made of decision trees; so there will be n number of decision trees being used.\n",
    "#esch decision tree will predict a value, and then the majority or the average value among them will be chosen as the Predicted value.\n",
    "    "
   ]
  },
  {
   "cell_type": "code",
   "execution_count": 47,
   "id": "f7c26d53",
   "metadata": {},
   "outputs": [],
   "source": [
    "regressor = RandomForestRegressor(n_estimators=100)"
   ]
  },
  {
   "cell_type": "code",
   "execution_count": 48,
   "id": "d09655d9",
   "metadata": {},
   "outputs": [
    {
     "data": {
      "text/plain": [
       "RandomForestRegressor()"
      ]
     },
     "execution_count": 48,
     "metadata": {},
     "output_type": "execute_result"
    }
   ],
   "source": [
    "##training the model\n",
    "regressor.fit(X_train,Y_train)"
   ]
  },
  {
   "cell_type": "code",
   "execution_count": 49,
   "id": "ca0063a2",
   "metadata": {},
   "outputs": [],
   "source": [
    "#Model Evaluation"
   ]
  },
  {
   "cell_type": "code",
   "execution_count": 50,
   "id": "f418bdeb",
   "metadata": {},
   "outputs": [],
   "source": [
    "#prediction on test data\n",
    "test_data_prediction = regressor.predict(X_test)"
   ]
  },
  {
   "cell_type": "code",
   "execution_count": 51,
   "id": "05f7437b",
   "metadata": {},
   "outputs": [
    {
     "name": "stdout",
     "output_type": "stream",
     "text": [
      "[168.56429919  82.05909971 115.97470017 127.88230083 120.46800099\n",
      " 154.71569822 150.05379845 126.09530053 117.36779872 125.91450088\n",
      " 116.81160077 171.1963008  141.51579868 167.87499862 114.96900046\n",
      " 117.60140039 138.00170256 170.42760123 158.56240244 161.11579855\n",
      " 154.99100015 125.33960033 175.88109983 157.66990358 125.20030017\n",
      "  93.9301996   77.70459985 120.75399979 119.15359985 167.56580044\n",
      "  88.15160032 125.16329991  91.29320068 117.60290012 121.05129924\n",
      " 136.29469957 115.30080081 115.25490077 148.81209933 107.25000084\n",
      " 104.60220242  87.26349781 126.61840034 117.84700011 152.81079942\n",
      " 119.64450006 108.36580044 108.21489832  93.32020056 127.30009727\n",
      "  75.01670059 113.67649881 121.38900001 111.09249914 118.93279901\n",
      " 120.74459951 159.8704998  169.66540209 147.11509705  85.89659905\n",
      "  94.4281003   86.74659895  90.6433998  119.04750095 126.45940104\n",
      " 127.55100032 170.59310033 122.23509934 117.45089902  98.69950073\n",
      " 167.90470068 143.38399908 132.26770321 121.15280188 121.88529946\n",
      " 119.60350053 114.63110117 118.08650092 106.93980103 127.91770037\n",
      " 114.06149965 107.39200002 116.83700025 119.7416989   88.92200025\n",
      "  88.37769882 146.88770232 127.2952005  113.32640011 110.20059809\n",
      " 108.30649906  77.46949922 169.63960111 113.97449908 121.5413993\n",
      " 128.07190213 155.00829862  91.61139933 135.7443012  158.22620396\n",
      " 124.68570073 125.25760069 130.54510168 114.93380078 119.72439999\n",
      "  92.11359988 110.02859912 169.03139845 155.70699938 114.10449925\n",
      " 106.71460121  80.24469959 113.41520021 125.87540075 107.45039927\n",
      " 119.10330099 155.62560262 159.5535985  120.23059991 133.62150292\n",
      " 101.33780002 117.55969819 119.25160031 112.91610085 102.75349976\n",
      " 160.37899752  99.16790034 148.85389955 125.44780069 169.77639923\n",
      " 125.43689937 127.29359774 127.65410156 113.75359946 113.02940091\n",
      " 123.49879903 102.26739906  89.19670002 124.30409975 100.89979932\n",
      " 107.32869935 113.19210076 117.38260055  99.32829981 121.60780043\n",
      " 163.32309859  87.36849888 106.99710024 117.3823007  127.68570116\n",
      " 124.14140068  80.70579898 120.40200077 157.47809852  87.65999979\n",
      " 110.25879969 118.74489895 171.52819861 102.95959916 105.30070027\n",
      " 122.38330028 157.92159759  87.68429815  93.18730046 112.43960002\n",
      " 177.32769978 114.0097     119.17290019  94.51040086 125.61800015\n",
      " 166.04650051 114.94320076 116.90850135  88.38669873 148.92080046\n",
      " 120.11029973  89.41759981 112.35870014 117.48180058 118.66750117\n",
      "  88.19419933  94.13649992 117.07000001 118.49770221 120.45530034\n",
      " 126.69729852 121.89189954 150.9956006  165.1665008  118.5820998\n",
      " 120.34410146 151.00510054 118.72279924 171.88289848 105.04209921\n",
      " 104.93370124 148.93640044 113.76020024 124.92080095 147.68449984\n",
      " 119.56800121 115.55180059 112.47950017 113.41730243 142.64900141\n",
      " 117.86519763 102.97120081 115.84330097 103.69760184  98.80120068\n",
      " 117.2549006   90.73630008  91.6360003  153.52989977 102.60579995\n",
      " 154.34350088 114.36730157 138.81330082  90.18759816 115.53289947\n",
      " 114.35779965 122.77930039 121.89039999 165.37090176  93.00969944\n",
      " 135.43490164 121.37749943 120.89370064 104.83340008 141.99600288\n",
      " 121.96719927 116.49120035 113.38670104 127.04929811 122.63209985\n",
      " 125.92729957 121.26720037  86.88799921 132.38450188 144.35350206\n",
      "  92.68009974 157.91060009 158.12270301 126.2945992  164.96770015\n",
      " 108.83749967 109.91460096 103.83149802  94.39320035 128.04290306\n",
      " 107.32700033 160.7163     121.66380032 131.90980078 130.34840201\n",
      " 160.72489971  90.29809822 174.84320199 127.16500055 126.60919884\n",
      "  86.4513994  124.50639935 150.00659708  89.60860011 107.27100005\n",
      " 109.00019959  84.32869886 136.45260021 154.9723021  137.78000343\n",
      "  74.21750008 152.74190108 126.13970025 126.78789988 127.49949876\n",
      " 108.55729948 156.50179956 114.57780063 116.98830158 125.33029954\n",
      " 154.02490163 121.40040004 156.3675992   93.03480079 125.63690091\n",
      " 125.79870041  87.5422001   92.20609947 126.04909978 128.36270356\n",
      " 113.24840032 117.6573971  120.98790029 127.09199835 119.89710134\n",
      " 136.17769988  94.04789917 119.81860055 113.22970121  94.38039933\n",
      " 108.94140008  87.67159923 109.01149947  89.53749996  92.44280021\n",
      " 131.36250216 162.64330076  89.28730025 119.57190089 133.38570178\n",
      " 123.9078002  127.99580121 102.06649865  89.02359863 131.82080085\n",
      " 120.56540055 108.33809994 168.3925997  115.27560075  86.57169897\n",
      " 118.8628003   90.93289967 161.85400028 116.53600051 121.76230015\n",
      " 160.20519744 120.01919954 112.65439929 108.48769885 126.78580016\n",
      "  76.07980049 103.00419982 127.84810268 121.66359886  92.5827999\n",
      " 132.08840076 118.32510065 116.14939978 154.21330266 158.99500091\n",
      " 109.85509998 156.12939788 119.28080132 160.61890138 118.64130016\n",
      " 158.35259957 115.03359992 116.44070026 149.66809896 114.8832008\n",
      " 125.68839859 165.46099964 117.85970003 125.01739915 153.55030345\n",
      " 153.4875024  132.10350071 114.62240039 121.24900153 124.79310063\n",
      "  89.8591003  122.98669952 154.94310194 111.76400054 106.85830025\n",
      " 162.01490133 118.62909975 165.65770016 134.13160129 114.61169981\n",
      " 152.83859842 168.68930115 115.09359976 114.0308013  159.52419893\n",
      "  85.19249921 127.05760049 127.86030073 128.81109988 124.23400063\n",
      " 123.94780064  90.57740098 153.0565994   97.12839978 137.00359941\n",
      "  89.03919942 107.43979993 115.0939008  112.47120099 124.08079905\n",
      "  91.32739881 125.21750092 162.41289931 119.94139851 165.313401\n",
      " 126.63269842 112.34890016 127.52859927  95.27899893  91.02329972\n",
      " 102.87299895 120.97889985  82.61049977 126.44060008 160.11950409\n",
      " 117.35550058 118.16219979 120.32439986 122.52809949 120.05620145\n",
      " 121.23979966 118.18020043 107.24259986 148.23599969 125.87259888\n",
      " 115.80530113  74.07200004 127.75370059 154.50740043 121.70299965\n",
      " 125.5488003   88.8389999  103.17699848 124.7403003  120.1609002\n",
      "  73.33540081 151.68059954 121.40900039 104.62140036  86.60579792\n",
      " 114.92889924 172.12779898 119.79200048 159.58029832 113.16089934\n",
      " 120.82960015 118.85940049  95.98559978 118.88450027 125.95850021\n",
      " 118.44319939  95.98970051 153.64840205 122.26309999 148.49050002\n",
      " 159.52010315 113.95370032 122.60019938 150.56379801 127.22860007\n",
      " 165.77400026 135.93510011 120.18859982 167.27239802 108.63729952\n",
      " 121.64959831 139.83450173 106.88349884]\n"
     ]
    }
   ],
   "source": [
    "print(test_data_prediction)"
   ]
  },
  {
   "cell_type": "code",
   "execution_count": 53,
   "id": "8ca0b27d",
   "metadata": {},
   "outputs": [
    {
     "name": "stdout",
     "output_type": "stream",
     "text": [
      "Rsquared error : 0.9891170550418092\n"
     ]
    }
   ],
   "source": [
    "##now to check these values\n",
    "# Rsquared error can be used to check the metrics\n",
    "error_score = metrics.r2_score(Y_test, test_data_prediction)    # to check whether the predicted test_data_prediction is equal to the Y_test which is the actual data\n",
    "print('Rsquared error :', error_score)"
   ]
  },
  {
   "cell_type": "code",
   "execution_count": 54,
   "id": "cd9bfc5b",
   "metadata": {},
   "outputs": [],
   "source": [
    "#we can compare the actual values n predicted values in a plot to see how close they are\n",
    "#we will convert the values from a dataframe to list to reduce error\n",
    "Y_test = list(Y_test)"
   ]
  },
  {
   "cell_type": "code",
   "execution_count": 57,
   "id": "af568ef1",
   "metadata": {},
   "outputs": [
    {
     "data": {
      "image/png": "[encoded data removed]",
      "text/plain": [
       "<Figure size 432x288 with 1 Axes>"
      ]
     },
     "metadata": {
      "needs_background": "light"
     },
     "output_type": "display_data"
    }
   ],
   "source": [
    "plt.plot(Y_test,color='blue', label='Actual Value')\n",
    "plt.plot(test_data_prediction, color ='red', label = 'Predicted value')\n",
    "plt.title('Actual price vs Predicted price')\n",
    "plt.xlabel('number of values')\n",
    "plt.ylabel('GLD Price')\n",
    "plt.legend()\n",
    "plt.show()"
   ]
  },
  {
   "cell_type": "code",
   "execution_count": null,
   "id": "af618483",
   "metadata": {},
   "outputs": [],
   "source": []
  }
 ],
 "metadata": {
  "kernelspec": {
   "display_name": "Python 3 (ipykernel)",
   "language": "python",
   "name": "python3"
  },
  "language_info": {
   "codemirror_mode": {
    "name": "ipython",
    "version": 3
   },
   "file_extension": ".py",
   "mimetype": "text/x-python",
   "name": "python",
   "nbconvert_exporter": "python",
   "pygments_lexer": "ipython3",
   "version": "3.9.7"
  }
 },
 "nbformat": 4,
 "nbformat_minor": 5
}
